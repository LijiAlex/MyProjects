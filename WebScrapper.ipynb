{
 "cells": [
  {
   "cell_type": "markdown",
   "id": "8cf42a2b",
   "metadata": {},
   "source": [
    "Pandas can retrieve on table data"
   ]
  },
  {
   "cell_type": "code",
   "execution_count": null,
   "id": "958a7b69",
   "metadata": {},
   "outputs": [],
   "source": [
    "import pandas as pd\n",
    "pd.read_html(\"https://thegreatestbooks.org/\")"
   ]
  },
  {
   "cell_type": "markdown",
   "id": "81f2b8aa",
   "metadata": {},
   "source": [
    "### Scrap book details from the site https://thegreatestbooks.org/"
   ]
  },
  {
   "cell_type": "code",
   "execution_count": null,
   "id": "607dc87f",
   "metadata": {},
   "outputs": [],
   "source": [
    "import requests\n",
    "from bs4 import BeautifulSoup as bs"
   ]
  },
  {
   "cell_type": "code",
   "execution_count": null,
   "id": "8446b18a",
   "metadata": {},
   "outputs": [],
   "source": [
    "url = \"https://thegreatestbooks.org/\""
   ]
  },
  {
   "cell_type": "code",
   "execution_count": null,
   "id": "da6e200a",
   "metadata": {},
   "outputs": [],
   "source": [
    "url"
   ]
  },
  {
   "cell_type": "markdown",
   "id": "7b708854",
   "metadata": {},
   "source": [
    "Sends a get request for the url"
   ]
  },
  {
   "cell_type": "code",
   "execution_count": null,
   "id": "c841ac8d",
   "metadata": {},
   "outputs": [],
   "source": [
    "uResponse = requests.get(url)"
   ]
  },
  {
   "cell_type": "code",
   "execution_count": null,
   "id": "6825f08d",
   "metadata": {},
   "outputs": [],
   "source": [
    "uResponse # 200 means success"
   ]
  },
  {
   "cell_type": "markdown",
   "id": "e194234b",
   "metadata": {},
   "source": [
    "Retrieve text of the response"
   ]
  },
  {
   "cell_type": "code",
   "execution_count": null,
   "id": "85fda329",
   "metadata": {},
   "outputs": [],
   "source": [
    "uResponse.text"
   ]
  },
  {
   "cell_type": "markdown",
   "id": "2b8e00d1",
   "metadata": {},
   "source": [
    "Converts the text into an html tree where each tag can searched for."
   ]
  },
  {
   "cell_type": "code",
   "execution_count": null,
   "id": "78292e78",
   "metadata": {},
   "outputs": [],
   "source": [
    "page_html = bs(uResponse.text, \"html.parser\")"
   ]
  },
  {
   "cell_type": "code",
   "execution_count": null,
   "id": "8521ca7f",
   "metadata": {},
   "outputs": [],
   "source": [
    "page_html"
   ]
  },
  {
   "cell_type": "markdown",
   "id": "64e5c309",
   "metadata": {},
   "source": [
    "Find all the tags in the particular class"
   ]
  },
  {
   "cell_type": "code",
   "execution_count": null,
   "id": "9aca9bc1",
   "metadata": {},
   "outputs": [],
   "source": [
    "books = page_html.findAll(\"li\", {\"class\": \"item pb-3 pt-3 border-bottom\"})"
   ]
  },
  {
   "cell_type": "code",
   "execution_count": null,
   "id": "781753b5",
   "metadata": {},
   "outputs": [],
   "source": [
    "books"
   ]
  },
  {
   "cell_type": "code",
   "execution_count": null,
   "id": "5b8c2b09",
   "metadata": {},
   "outputs": [],
   "source": [
    "len(books)"
   ]
  },
  {
   "cell_type": "markdown",
   "id": "3dc37402",
   "metadata": {},
   "source": [
    "Get the first book"
   ]
  },
  {
   "cell_type": "code",
   "execution_count": null,
   "id": "c46b2c97",
   "metadata": {},
   "outputs": [],
   "source": [
    "book = books[0]\n",
    "book"
   ]
  },
  {
   "cell_type": "markdown",
   "id": "e151e163",
   "metadata": {},
   "source": [
    "Get name"
   ]
  },
  {
   "cell_type": "code",
   "execution_count": null,
   "id": "76e37538",
   "metadata": {},
   "outputs": [],
   "source": [
    "book.div.div.div.h4.a"
   ]
  },
  {
   "cell_type": "code",
   "execution_count": null,
   "id": "7f5a6817",
   "metadata": {},
   "outputs": [],
   "source": [
    "book.div.div.div.h4.findAll(\"a\")"
   ]
  },
  {
   "cell_type": "markdown",
   "id": "e6393438",
   "metadata": {},
   "source": [
    "Name"
   ]
  },
  {
   "cell_type": "code",
   "execution_count": null,
   "id": "2e50ce3e",
   "metadata": {},
   "outputs": [],
   "source": [
    "book.div.div.div.h4.findAll(\"a\")[0].text"
   ]
  },
  {
   "cell_type": "markdown",
   "id": "f7f8f35a",
   "metadata": {},
   "source": [
    "Author"
   ]
  },
  {
   "cell_type": "code",
   "execution_count": null,
   "id": "a67ab79f",
   "metadata": {},
   "outputs": [],
   "source": [
    "book.div.div.div.h4.findAll(\"a\")[1].text"
   ]
  },
  {
   "cell_type": "markdown",
   "id": "f0075e03",
   "metadata": {},
   "source": [
    "Short description"
   ]
  },
  {
   "cell_type": "code",
   "execution_count": null,
   "id": "4ca7dade",
   "metadata": {},
   "outputs": [],
   "source": [
    "book.div.div.div.div.p.text"
   ]
  },
  {
   "cell_type": "markdown",
   "id": "2f47e0e3",
   "metadata": {},
   "source": [
    "Book link"
   ]
  },
  {
   "cell_type": "code",
   "execution_count": null,
   "id": "a3008e4f",
   "metadata": {},
   "outputs": [],
   "source": [
    "book.div.div.div.h4.a[\"href\"]"
   ]
  },
  {
   "cell_type": "code",
   "execution_count": null,
   "id": "68a20db9",
   "metadata": {},
   "outputs": [],
   "source": [
    "bookLink = \"https://thegreatestbooks.org\" + book.div.div.div.h4.a[\"href\"]\n",
    "bookLink"
   ]
  },
  {
   "cell_type": "markdown",
   "id": "94358edf",
   "metadata": {},
   "source": [
    "Get book page"
   ]
  },
  {
   "cell_type": "code",
   "execution_count": null,
   "id": "cef3a837",
   "metadata": {},
   "outputs": [],
   "source": [
    "bookPage = requests.get(bookLink)\n",
    "bookPage"
   ]
  },
  {
   "cell_type": "code",
   "execution_count": null,
   "id": "f743b6cd",
   "metadata": {},
   "outputs": [],
   "source": [
    "book_html = bs(bookPage.text, \"html.parser\")\n",
    "book_html"
   ]
  },
  {
   "cell_type": "code",
   "execution_count": null,
   "id": "13a282c1",
   "metadata": {},
   "outputs": [],
   "source": [
    "page_elements = book_html.find_all('div', {'class': \"row pt-3\"})\n",
    "page_elements"
   ]
  },
  {
   "cell_type": "code",
   "execution_count": null,
   "id": "d31198b4",
   "metadata": {},
   "outputs": [],
   "source": [
    "len(page_elements)"
   ]
  },
  {
   "cell_type": "markdown",
   "id": "0c7f9b0e",
   "metadata": {},
   "source": [
    "Get book details"
   ]
  },
  {
   "cell_type": "code",
   "execution_count": null,
   "id": "7681ac56",
   "metadata": {},
   "outputs": [],
   "source": [
    "book_details = page_elements[0]\n",
    "book_details"
   ]
  },
  {
   "cell_type": "code",
   "execution_count": null,
   "id": "c98752a0",
   "metadata": {},
   "outputs": [],
   "source": [
    "book_details"
   ]
  },
  {
   "cell_type": "markdown",
   "id": "50827708",
   "metadata": {},
   "source": [
    "Complete book description"
   ]
  },
  {
   "cell_type": "code",
   "execution_count": null,
   "id": "db5589a4",
   "metadata": {},
   "outputs": [],
   "source": [
    "book_details.div.div.p.text"
   ]
  },
  {
   "cell_type": "markdown",
   "id": "b8eb7f6c",
   "metadata": {},
   "source": [
    "Get details for all books"
   ]
  },
  {
   "cell_type": "code",
   "execution_count": null,
   "id": "7a120c6b",
   "metadata": {},
   "outputs": [],
   "source": [
    "all_books = []\n",
    "for b in books:  \n",
    "    book = {}\n",
    "    book[\"name\"] = b.div.div.div.h4.findAll(\"a\")[0].text\n",
    "    book[\"author\"] = b.div.div.div.h4.findAll(\"a\")[1].text\n",
    "    bookLink = \"https://thegreatestbooks.org\" + b.div.div.div.h4.a[\"href\"]\n",
    "    book[\"link\"] = bookLink\n",
    "    bookPage = requests.get(bookLink)\n",
    "    book_html = bs(bookPage.text, \"html.parser\")\n",
    "    page_elements = book_html.find_all('div', {'class': \"row pt-3\"})\n",
    "    book_details = page_elements[0]\n",
    "    book[\"description\"] = book_details.div.div.p.text\n",
    "    all_books.append(book)"
   ]
  },
  {
   "cell_type": "markdown",
   "id": "59f53035",
   "metadata": {},
   "source": [
    "print"
   ]
  },
  {
   "cell_type": "code",
   "execution_count": null,
   "id": "a29a44a3",
   "metadata": {},
   "outputs": [],
   "source": [
    "import pprint\n",
    "for b in all_books:\n",
    "    pprint.pprint(b)"
   ]
  },
  {
   "cell_type": "code",
   "execution_count": null,
   "id": "b1710613",
   "metadata": {},
   "outputs": [],
   "source": []
  }
 ],
 "metadata": {
  "kernelspec": {
   "display_name": "Python 3",
   "language": "python",
   "name": "python3"
  },
  "language_info": {
   "codemirror_mode": {
    "name": "ipython",
    "version": 3
   },
   "file_extension": ".py",
   "mimetype": "text/x-python",
   "name": "python",
   "nbconvert_exporter": "python",
   "pygments_lexer": "ipython3",
   "version": "3.8.8"
  }
 },
 "nbformat": 4,
 "nbformat_minor": 5
}
